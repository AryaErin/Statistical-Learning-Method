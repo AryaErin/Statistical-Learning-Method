{
 "cells": [
  {
   "cell_type": "code",
   "execution_count": 1,
   "id": "cfc69b35",
   "metadata": {},
   "outputs": [],
   "source": [
    "import pandas as pd\n",
    "import numpy as np\n",
    "from sklearn.model_selection import train_test_split\n",
    "import time"
   ]
  },
  {
   "cell_type": "code",
   "execution_count": 2,
   "id": "5a44ef7c",
   "metadata": {},
   "outputs": [],
   "source": [
    "def loadData(filePath):\n",
    "    data = pd.read_csv(filePath)\n",
    "    threshold = 32\n",
    "    if 'label' in data.columns:\n",
    "        X = np.array(data.iloc[:,1:])\n",
    "        # 8位 256 -> 1位 2 减小复杂度\n",
    "        X[X<=threshold], X[X>threshold] = 0, 1\n",
    "        y = np.array(data.iloc[:,0])\n",
    "        return X, y\n",
    "    else:\n",
    "        X = np.array(data.iloc[:,:])\n",
    "        # 8位 256 -> 1位 2 减小复杂度\n",
    "        X[X<=threshold], X[X>threshold] = 0, 1\n",
    "        return X"
   ]
  },
  {
   "cell_type": "code",
   "execution_count": 3,
   "id": "0633b94b",
   "metadata": {},
   "outputs": [],
   "source": [
    "class Naive_Bayes:\n",
    "    def __init__(self):\n",
    "        pass\n",
    "    def fit(self, X, y):\n",
    "        tot_count = X.shape[0]\n",
    "        pixel_count = X.shape[1]\n",
    "        count_y = [(y==i).sum() for i in range(10)]\n",
    "        # 先验概率(拉普拉斯平滑)\n",
    "        self.Py = np.array([(1 + (y==i).sum()) / (10 + tot_count) for i in range(10)])\n",
    "        # 条件概率(拉普拉斯平滑) Pxy[i][j][k][0] / Pxy[i][j][k][1] = P(X^j=a_{jk} | y=c_i)\n",
    "        Pxy = np.array([[[[1,2 + count_y[i]] for k in range(2)] for j in range(pixel_count)] for i in range(10)])\n",
    "        for i, xi in enumerate(X):\n",
    "            yi = y[i]\n",
    "            for j in range(pixel_count):\n",
    "                Pxy[yi][j][xi[j]][0] += 1\n",
    "        self.Pxy = np.array([[[[Pxy[i][j][k][0] / Pxy[i][j][k][1]] for k in range(2)] for j in range(pixel_count)] for i in range(10)])\n",
    "    def predict(self, X):\n",
    "        # 预测时为了防止连乘下溢，采用log相加\n",
    "        y_pred = np.zeros(X.shape[0], dtype = np.int32)\n",
    "        print('Start predict.')\n",
    "        for i, xi in enumerate(X):\n",
    "            if (i + 1) % 1000 == 0:\n",
    "                print('processed %d/%d' % (i+1, X.shape[0]))\n",
    "            #  由于取了log所以初始值为0而不是1\n",
    "            y_prob = [0 for _ in range(10)]\n",
    "            for j in range(10):\n",
    "                y_prob[j] += np.log(self.Py[j])\n",
    "                for k in range(xi.shape[0]):\n",
    "                    y_prob[j] += np.log(self.Pxy[j][k][xi[k]])\n",
    "            # 取后验概率最大的为分类结果\n",
    "            y_pred[i] = np.array(y_prob).argmax()\n",
    "        print('Predict finish.')\n",
    "        return y_pred"
   ]
  },
  {
   "cell_type": "code",
   "execution_count": null,
   "id": "7097b0e3",
   "metadata": {},
   "outputs": [],
   "source": []
  },
  {
   "cell_type": "code",
   "execution_count": null,
   "id": "7d3fba07",
   "metadata": {},
   "outputs": [],
   "source": []
  },
  {
   "cell_type": "code",
   "execution_count": 4,
   "id": "83ccb5cb",
   "metadata": {},
   "outputs": [],
   "source": [
    "trainFilePath = '../mnist/train.csv'\n",
    "X, y = loadData(trainFilePath)\n",
    "X_train, X_valid, y_train, y_valid = train_test_split(X, y, test_size = 0.2, random_state= 42, stratify = y)\n",
    "testFilePath = '../mnist/test.csv'\n",
    "X_test = loadData(testFilePath)"
   ]
  },
  {
   "cell_type": "code",
   "execution_count": 5,
   "id": "9398093c",
   "metadata": {},
   "outputs": [
    {
     "name": "stdout",
     "output_type": "stream",
     "text": [
      "training time : 17.239861249923706\n"
     ]
    }
   ],
   "source": [
    "start = time.time()\n",
    "model = Naive_Bayes()\n",
    "model.fit(X_train, y_train)\n",
    "end = time.time()\n",
    "print('training time :', end - start)"
   ]
  },
  {
   "cell_type": "code",
   "execution_count": 6,
   "id": "fe08108c",
   "metadata": {},
   "outputs": [
    {
     "name": "stdout",
     "output_type": "stream",
     "text": [
      "Start predict.\n",
      "processed 1000/8400\n",
      "processed 2000/8400\n",
      "processed 3000/8400\n",
      "processed 4000/8400\n",
      "processed 5000/8400\n",
      "processed 6000/8400\n",
      "processed 7000/8400\n",
      "processed 8000/8400\n",
      "Predict finish.\n",
      "predicting time : 144.98640298843384\n"
     ]
    }
   ],
   "source": [
    "start = time.time()\n",
    "y_pred = model.predict(X_valid)\n",
    "end = time.time()\n",
    "print('predicting time :', end - start)"
   ]
  },
  {
   "cell_type": "code",
   "execution_count": 7,
   "id": "98f54aca",
   "metadata": {},
   "outputs": [
    {
     "name": "stdout",
     "output_type": "stream",
     "text": [
      "acc = 0.834762\n"
     ]
    }
   ],
   "source": [
    "acc = (y_pred==y_valid).sum() / y_valid.shape[0]\n",
    "print('acc = %f' % (acc))"
   ]
  },
  {
   "cell_type": "code",
   "execution_count": 8,
   "id": "566fd904",
   "metadata": {},
   "outputs": [
    {
     "name": "stdout",
     "output_type": "stream",
     "text": [
      "Start predict.\n",
      "processed 1000/28000\n",
      "processed 2000/28000\n",
      "processed 3000/28000\n",
      "processed 4000/28000\n",
      "processed 5000/28000\n",
      "processed 6000/28000\n",
      "processed 7000/28000\n",
      "processed 8000/28000\n",
      "processed 9000/28000\n",
      "processed 10000/28000\n",
      "processed 11000/28000\n",
      "processed 12000/28000\n",
      "processed 13000/28000\n",
      "processed 14000/28000\n",
      "processed 15000/28000\n",
      "processed 16000/28000\n",
      "processed 17000/28000\n",
      "processed 18000/28000\n",
      "processed 19000/28000\n",
      "processed 20000/28000\n",
      "processed 21000/28000\n",
      "processed 22000/28000\n",
      "processed 23000/28000\n",
      "processed 24000/28000\n",
      "processed 25000/28000\n",
      "processed 26000/28000\n",
      "processed 27000/28000\n",
      "processed 28000/28000\n",
      "Predict finish.\n",
      "predicting time : 497.43361926078796\n"
     ]
    }
   ],
   "source": [
    "start = time.time()\n",
    "y_pred = model.predict(X_test)\n",
    "end = time.time()\n",
    "print('predicting time :', end - start)"
   ]
  },
  {
   "cell_type": "code",
   "execution_count": 9,
   "id": "e8f12cbf",
   "metadata": {},
   "outputs": [],
   "source": [
    "ans = pd.DataFrame({'ImageId': list(range(1, y_pred.shape[0] + 1)), 'Label' : y_pred})\n",
    "ans.to_csv('./result.csv', index = False)\n",
    "# threshold = 64  kaggle准确率 83.539%\n",
    "# threshold = 32  kaggle准确率 83.392%\n",
    "# https://www.kaggle.com/competitions/digit-recognizer/overview"
   ]
  }
 ],
 "metadata": {
  "kernelspec": {
   "display_name": "Python [conda env:pytorch] *",
   "language": "python",
   "name": "conda-env-pytorch-py"
  },
  "language_info": {
   "codemirror_mode": {
    "name": "ipython",
    "version": 3
   },
   "file_extension": ".py",
   "mimetype": "text/x-python",
   "name": "python",
   "nbconvert_exporter": "python",
   "pygments_lexer": "ipython3",
   "version": "3.7.13"
  }
 },
 "nbformat": 4,
 "nbformat_minor": 5
}
