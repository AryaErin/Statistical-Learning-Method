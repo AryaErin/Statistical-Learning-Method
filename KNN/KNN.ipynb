{
 "cells": [
  {
   "cell_type": "code",
   "execution_count": 46,
   "id": "aa57c1af",
   "metadata": {},
   "outputs": [],
   "source": [
    "import pandas as pd\n",
    "import numpy as np\n",
    "import time\n",
    "from scipy import spatial\n",
    "from sklearn.model_selection import train_test_split"
   ]
  },
  {
   "cell_type": "code",
   "execution_count": 34,
   "id": "89b2bbb1",
   "metadata": {},
   "outputs": [],
   "source": [
    "def loadTrainData(filePath):\n",
    "    data = pd.read_csv(filePath)\n",
    "    # 去除Cabin、Ticket、Name三列，这三列不做分析\n",
    "    data.drop(columns = ['Cabin', 'Ticket', 'Name'], axis = 1, inplace = True)\n",
    "    # 处理缺失值：Age使用平均值填充，Embarked使用出现最多的填充\n",
    "    data['Age'].fillna(value=data['Age'].median(), inplace = True)\n",
    "    maxEmbarked = data['Embarked'].value_counts().sort_values(ascending = False).index[0]\n",
    "    data['Embarked'].fillna(value = maxEmbarked, inplace = True)\n",
    "    # 修改male为1，female为0\n",
    "    data.loc[data['Sex']=='male', 'Sex'] = 1\n",
    "    data.loc[data['Sex']=='female', 'Sex'] = 0\n",
    "    # 修改C为0，Q为1，S为2\n",
    "    data.loc[data['Embarked']=='C', 'Embarked'] = 0\n",
    "    data.loc[data['Embarked']=='Q', 'Embarked'] = 1\n",
    "    data.loc[data['Embarked']=='S', 'Embarked'] = 2\n",
    "    # data[['Sex','Embarked']] = data[['Sex','Embarked']].apply(pd.to_numeric)\n",
    "    data[['Sex','Embarked']] = data[['Sex','Embarked']].astype(np.int64)\n",
    "    features = ['Pclass', 'Sex', 'Age', 'SibSp', 'Parch', 'Fare', 'Embarked']\n",
    "    tag = ['Survived']\n",
    "    # 转为矩阵\n",
    "    X = np.array(data[features])\n",
    "    y = np.array(data[tag])\n",
    "    return X, y"
   ]
  },
  {
   "cell_type": "code",
   "execution_count": 35,
   "id": "4f61ab92",
   "metadata": {},
   "outputs": [],
   "source": [
    "def loadTestData(filePath):\n",
    "    data = pd.read_csv(filePath)\n",
    "    data.drop(columns = ['Cabin', 'Ticket', 'Name'], inplace = True)\n",
    "    # print(data.isnull().sum().sort_values(ascending = False))\n",
    "    data['Age'].fillna(value = data['Age'].median(), inplace = True)\n",
    "    data['Fare'].fillna(value = data['Fare'].median(), inplace = True)\n",
    "    data.loc[data['Sex']=='male', 'Sex'] = 1\n",
    "    data.loc[data['Sex']=='female', 'Sex'] = 0\n",
    "    data.loc[data['Embarked']=='C', 'Embarked'] = 0\n",
    "    data.loc[data['Embarked']=='Q', 'Embarked'] = 1\n",
    "    data.loc[data['Embarked']=='S', 'Embarked'] = 2\n",
    "    data[['Sex','Embarked', 'Fare']] = data[['Sex','Embarked', 'Fare']].apply(pd.to_numeric)\n",
    "    features = ['Pclass', 'Sex', 'Age', 'SibSp', 'Parch', 'Fare', 'Embarked']\n",
    "    X = np.array(data[features])\n",
    "    return X"
   ]
  },
  {
   "cell_type": "code",
   "execution_count": 54,
   "id": "8cf92c34",
   "metadata": {},
   "outputs": [],
   "source": [
    "class KNN:\n",
    "    def __init__(self):\n",
    "        pass\n",
    "    def fit(self, X, y):\n",
    "        self.X = X\n",
    "        self.y = y\n",
    "        self.tree = spatial.KDTree(self.X)\n",
    "    def predict(self, X, k = 9):\n",
    "        # tree.query() 返回到最近k个点的距离和k个点的索引\n",
    "        _, passengersId = self.tree.query(X, k)\n",
    "        result = np.zeros(X.shape[0])\n",
    "        for i in range(X.shape[0]):\n",
    "            counts = [0,0]\n",
    "            for ID in passengersId[i]:\n",
    "                counts[self.y[ID]] += 1\n",
    "            result[i] = 0 if counts[0] > counts[1] else 1\n",
    "        return result\n"
   ]
  },
  {
   "cell_type": "code",
   "execution_count": 55,
   "id": "d7cbf6fa",
   "metadata": {},
   "outputs": [],
   "source": [
    "trainFilePath = '../titanic/train.csv'\n",
    "testFilePath = '../titanic/test.csv'\n",
    "X, y = loadTrainData(trainFilePath)\n",
    "y = y.flatten()\n",
    "X_train, X_valid, y_train, y_valid = train_test_split(X, y, test_size = 0.3, random_state = 42, stratify = y)\n",
    "X_test = loadTestData(testFilePath)\n",
    "model = KNN()\n",
    "model.fit(X_train, y_train)"
   ]
  },
  {
   "cell_type": "code",
   "execution_count": 69,
   "id": "3aa79b0f",
   "metadata": {},
   "outputs": [
    {
     "name": "stdout",
     "output_type": "stream",
     "text": [
      "k = 5, acc = 0.690299\n",
      "k = 7, acc = 0.679104\n",
      "k = 9, acc = 0.679104\n",
      "k = 11, acc = 0.671642\n",
      "k = 13, acc = 0.679104\n",
      "k = 15, acc = 0.686567\n",
      "k = 17, acc = 0.690299\n",
      "k = 19, acc = 0.690299\n",
      "k = 21, acc = 0.694030\n",
      "k = 23, acc = 0.682836\n",
      "k = 25, acc = 0.671642\n",
      "k = 27, acc = 0.649254\n",
      "k = 29, acc = 0.679104\n",
      "best k is 21 and best acc is 0.694030.\n"
     ]
    }
   ],
   "source": [
    "accs = []\n",
    "ks = list(range(5,30,2))\n",
    "for k in ks:\n",
    "    res = model.predict(X_valid, k = k)\n",
    "    tot = y_valid.shape[0]\n",
    "    acc = 1 - np.abs(y_valid - res).sum() / tot\n",
    "    accs.append(acc)\n",
    "    print('k = %d, acc = %f' % (k, acc))\n",
    "accs = np.array(accs)\n",
    "best_k = ks[accs.argmax()]\n",
    "print('best k is %d and best acc is %f.' % (best_k, accs.max()))"
   ]
  },
  {
   "cell_type": "code",
   "execution_count": 67,
   "id": "9454f01d",
   "metadata": {},
   "outputs": [],
   "source": [
    "res = model.predict(X_test, k = best_k)\n",
    "PassengerId = np.array(pd.read_csv(testFilePath).loc[:, 'PassengerId'])\n",
    "ans = pd.DataFrame({'PassengerId': PassengerId, 'Survived' : res.astype(np.int32)})\n",
    "ans.to_csv('./result.csv', index = False)\n",
    "\n",
    "# 准确率 65.550%"
   ]
  },
  {
   "cell_type": "code",
   "execution_count": 68,
   "id": "51ab0689",
   "metadata": {},
   "outputs": [
    {
     "name": "stdout",
     "output_type": "stream",
     "text": [
      "[5, 7, 9, 11, 13, 15, 17, 19, 21, 23, 25, 27, 29]\n"
     ]
    }
   ],
   "source": []
  }
 ],
 "metadata": {
  "kernelspec": {
   "display_name": "Python [conda env:pytorch] *",
   "language": "python",
   "name": "conda-env-pytorch-py"
  },
  "language_info": {
   "codemirror_mode": {
    "name": "ipython",
    "version": 3
   },
   "file_extension": ".py",
   "mimetype": "text/x-python",
   "name": "python",
   "nbconvert_exporter": "python",
   "pygments_lexer": "ipython3",
   "version": "3.7.13"
  }
 },
 "nbformat": 4,
 "nbformat_minor": 5
}
