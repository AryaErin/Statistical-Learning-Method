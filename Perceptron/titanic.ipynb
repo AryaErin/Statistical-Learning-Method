{
 "cells": [
  {
   "cell_type": "code",
   "execution_count": 1,
   "id": "f1c12fe7",
   "metadata": {},
   "outputs": [],
   "source": [
    "import pandas as pd\n",
    "import numpy as np"
   ]
  },
  {
   "cell_type": "code",
   "execution_count": 2,
   "id": "64732bd5",
   "metadata": {},
   "outputs": [],
   "source": [
    "    # titanic训练集所有特征如下：\n",
    "    # passengerId 乘客编号\n",
    "    # survived 是否存活 1是 0否\n",
    "    # pclass 船舱等级  1=lst 2=2nd 3=3rd\n",
    "    # name 姓名\n",
    "    # sex 性别\n",
    "    # age 年纪\n",
    "    # sibsp 🚢上的兄弟姐妹/配偶个数\n",
    "    # parch 🚢上的父母，孩子\n",
    "    # ticket 船票号码\n",
    "    # fare 船票价格\n",
    "    # cabin 船仓号\n",
    "    # embarked 登船港口  C = Cherbourg, Q = Queenstown, S = Southampton\n",
    "\n",
    "    # Cabin船舱号有大量空值，对于空值填充可能有较大误差，所以我们先不考虑cabin作为特征\n",
    "    # age，由于age缺失很少，我们使用年龄的中位数进行填充\n",
    "    # passengerId是一个连续的序列，与结果无关，我们不选择这个作为特征\n",
    "    # ticket是船票序列，我们不分析\n",
    "    # embarked和sex这两个特征是字符串，进行处理\n",
    "    # 将sex中male=1，famle=0\n",
    "    # embarked中 c=0，q=1，s=2"
   ]
  },
  {
   "cell_type": "code",
   "execution_count": 3,
   "id": "8499527a",
   "metadata": {},
   "outputs": [],
   "source": [
    "def loadTrainData(filePath):\n",
    "    data = pd.read_csv(filePath)\n",
    "    # 去除Cabin、Ticket、Name三列，这三列不做分析\n",
    "    data.drop(columns = ['Cabin', 'Ticket', 'Name'], axis = 1, inplace = True)\n",
    "    # 处理缺失值：Age使用平均值填充，Embarked使用出现最多的填充\n",
    "    data['Age'].fillna(value=data['Age'].median(), inplace = True)\n",
    "    maxEmbarked = data['Embarked'].value_counts().sort_values(ascending = False).index[0]\n",
    "    data['Embarked'].fillna(value = maxEmbarked, inplace = True)\n",
    "    # 修改male为1，female为0\n",
    "    data.loc[data['Sex']=='male', 'Sex'] = 1\n",
    "    data.loc[data['Sex']=='female', 'Sex'] = 0\n",
    "    # 修改C为0，Q为1，S为2\n",
    "    data.loc[data['Embarked']=='C', 'Embarked'] = 0\n",
    "    data.loc[data['Embarked']=='Q', 'Embarked'] = 1\n",
    "    data.loc[data['Embarked']=='S', 'Embarked'] = 2\n",
    "    # data[['Sex','Embarked']] = data[['Sex','Embarked']].apply(pd.to_numeric)\n",
    "    data[['Sex','Embarked']] = data[['Sex','Embarked']].astype(np.int64)\n",
    "    features = ['Pclass', 'Sex', 'Age', 'SibSp', 'Parch', 'Fare', 'Embarked']\n",
    "    tag = ['Survived']\n",
    "    # 感知机中正类为1，负类为-1；而当前负类为0，需要修改一下\n",
    "    data.loc[data['Survived']==0,'Survived'] = -1\n",
    "    # 转为矩阵\n",
    "    X = np.array(data[features])\n",
    "    y = np.array(data[tag])\n",
    "    return X, y"
   ]
  },
  {
   "cell_type": "code",
   "execution_count": 4,
   "id": "5ce8a226",
   "metadata": {},
   "outputs": [],
   "source": [
    "def loadTestData(filePath):\n",
    "    data = pd.read_csv(filePath)\n",
    "    data.drop(columns = ['Cabin', 'Ticket', 'Name'], inplace = True)\n",
    "    # print(data.isnull().sum().sort_values(ascending = False))\n",
    "    data['Age'].fillna(value = data['Age'].median(), inplace = True)\n",
    "    data['Fare'].fillna(value = data['Fare'].median(), inplace = True)\n",
    "    data.loc[data['Sex']=='male', 'Sex'] = 1\n",
    "    data.loc[data['Sex']=='female', 'Sex'] = 0\n",
    "    data.loc[data['Embarked']=='C', 'Embarked'] = 0\n",
    "    data.loc[data['Embarked']=='Q', 'Embarked'] = 1\n",
    "    data.loc[data['Embarked']=='S', 'Embarked'] = 2\n",
    "    data[['Sex','Embarked', 'Fare']] = data[['Sex','Embarked', 'Fare']].apply(pd.to_numeric)\n",
    "#     print(data.info())\n",
    "    features = ['Pclass', 'Sex', 'Age', 'SibSp', 'Parch', 'Fare', 'Embarked']\n",
    "    X = np.array(data[features])\n",
    "    return X"
   ]
  },
  {
   "cell_type": "code",
   "execution_count": 5,
   "id": "28139212",
   "metadata": {},
   "outputs": [],
   "source": [
    "# 标准化\n",
    "def norm(X_data):\n",
    "    mu = X_data.mean(axis = 0)\n",
    "    sigma = X_data.std(axis = 0)\n",
    "    X_norm = (X_data - mu) / sigma\n",
    "    return X_norm"
   ]
  },
  {
   "cell_type": "code",
   "execution_count": 6,
   "id": "858533a0",
   "metadata": {},
   "outputs": [],
   "source": [
    "class Perceptron:\n",
    "    def __init__(self):\n",
    "        pass\n",
    "    def fit(self, X, y):\n",
    "        max_epochs = 500\n",
    "        lr = 0.01\n",
    "        # 初始化w = 0, b = 0\n",
    "        w = np.zeros((1, X.shape[1]))\n",
    "        b = 0\n",
    "        for epoch in range(max_epochs):\n",
    "            upd = False\n",
    "            for i, xi in enumerate(X):\n",
    "                yi = y[i]\n",
    "                # 误分类则更新\n",
    "                if yi * (w @ xi.T + b) <= 0:\n",
    "                    upd = True\n",
    "                    w = w + lr * yi * xi\n",
    "                    b = b + lr * yi\n",
    "                    break\n",
    "            if not upd:\n",
    "                break\n",
    "        correct = 0\n",
    "        # 计算正确分类数量\n",
    "        for i, xi in enumerate(X):\n",
    "            yi = y[i]\n",
    "            if yi * (w @ xi.T + b) > 0:\n",
    "                correct += 1\n",
    "        self.w, self.b = w, b\n",
    "        print('acc =', correct / y.shape[0])\n",
    "    def predict(self, X):\n",
    "        result = np.zeros(X.shape[0])\n",
    "        for i, xi in enumerate(X):\n",
    "            if self.w @ xi.T + self.b <= 0:\n",
    "                result[i] = 0\n",
    "            else:\n",
    "                result[i] = 1\n",
    "        return result"
   ]
  },
  {
   "cell_type": "code",
   "execution_count": 7,
   "id": "a815fdf4",
   "metadata": {},
   "outputs": [
    {
     "name": "stdout",
     "output_type": "stream",
     "text": [
      "acc = 0.7115600448933782\n"
     ]
    }
   ],
   "source": [
    "trainFilePath = '../titanic/train.csv'\n",
    "X_train, y_train = loadTrainData(trainFilePath)\n",
    "X_train = norm(X_train)\n",
    "model = Perceptron()\n",
    "model.fit(X_train, y_train)"
   ]
  },
  {
   "cell_type": "code",
   "execution_count": 8,
   "id": "4ab14e32",
   "metadata": {},
   "outputs": [],
   "source": [
    "testFilePath = '../titanic/test.csv'\n",
    "PassengerId = pd.read_csv(testFilePath)['PassengerId']\n",
    "X_test = loadTestData(testFilePath)\n",
    "X_test = norm(X_test)\n",
    "res = model.predict(X_test)\n",
    "ans = pd.DataFrame({'PassengerId' : PassengerId, 'Survived' : res.astype(np.int32)})\n",
    "saveFilePath = './result.csv'\n",
    "ans.to_csv(saveFilePath, index = False)\n",
    "\n",
    "# 最终准确率71.531%"
   ]
  }
 ],
 "metadata": {
  "kernelspec": {
   "display_name": "Python [conda env:pytorch] *",
   "language": "python",
   "name": "conda-env-pytorch-py"
  },
  "language_info": {
   "codemirror_mode": {
    "name": "ipython",
    "version": 3
   },
   "file_extension": ".py",
   "mimetype": "text/x-python",
   "name": "python",
   "nbconvert_exporter": "python",
   "pygments_lexer": "ipython3",
   "version": "3.7.13"
  }
 },
 "nbformat": 4,
 "nbformat_minor": 5
}
