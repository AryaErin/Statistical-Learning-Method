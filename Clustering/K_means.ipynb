{
 "cells": [
  {
   "cell_type": "code",
   "execution_count": 43,
   "id": "b83d5e42",
   "metadata": {},
   "outputs": [],
   "source": [
    "import numpy as np\n",
    "import pandas as pd\n",
    "import time\n",
    "from sklearn.model_selection import train_test_split\n",
    "from sklearn.datasets import load_iris\n",
    "import matplotlib.pyplot as plt"
   ]
  },
  {
   "cell_type": "code",
   "execution_count": 20,
   "id": "5250adc1",
   "metadata": {},
   "outputs": [],
   "source": [
    "def norm(X):\n",
    "    mean = X.mean(axis = 0)\n",
    "    sigma = X.std(axis = 0)\n",
    "    sigma[sigma==0] = 1\n",
    "    X_norm = (X - mean) / sigma\n",
    "    return X_norm"
   ]
  },
  {
   "cell_type": "code",
   "execution_count": 41,
   "id": "5b0a7479",
   "metadata": {},
   "outputs": [],
   "source": [
    "class K_means:\n",
    "    def __init__(self, n_clusters = 3, random_state = 42, max_iter = 100):\n",
    "        self.n_clusters = n_clusters\n",
    "        self.random_state = random_state\n",
    "        self.max_iter = max_iter\n",
    "    def cal_dis(self, x1, x2):\n",
    "        return np.linalg.norm(x1-x2) ** 2\n",
    "    def fit(self, X):\n",
    "        self.X = X\n",
    "        self.N = self.X.shape[0]\n",
    "        np.random.seed(self.random_state)\n",
    "        self.cluster_center = X[np.random.choice(self.N, self.n_clusters)]\n",
    "        self.clusters_belong = np.zeros(self.N, dtype = np.int32)\n",
    "        self.clusters = [[] for _ in range(self.n_clusters)]\n",
    "        for epoch in range(self.max_iter):\n",
    "            upd = False\n",
    "            # 重新分簇\n",
    "            for i in range(self.N):\n",
    "                dis_list = np.zeros(self.n_clusters)\n",
    "                for j in range(self.n_clusters):\n",
    "                    dis_list[j] = self.cal_dis(self.X[i], self.cluster_center[j])\n",
    "                c_id = dis_list.argmin()\n",
    "                if c_id != self.clusters_belong[i]:\n",
    "                    upd = True\n",
    "                self.clusters_belong[i] = c_id\n",
    "            if not upd:\n",
    "                break\n",
    "            self.clusters = [[] for _ in range(self.n_clusters)]\n",
    "            for i in range(self.N):\n",
    "                self.clusters[self.clusters_belong[i]].append(self.X[i])\n",
    "            # 选取新的类中心\n",
    "            for i in range(self.n_clusters):\n",
    "                self.cluster_center[i] = np.array(self.clusters[i]).mean()\n",
    "        return self.clusters_belong"
   ]
  },
  {
   "cell_type": "code",
   "execution_count": 62,
   "id": "d56a7225",
   "metadata": {},
   "outputs": [
    {
     "name": "stdout",
     "output_type": "stream",
     "text": [
      "[2 2 2 2 2 1 2 2 2 2 2 2 2 2 1 1 1 2 1 2 2 2 2 2 2 2 2 2 2 2 2 2 1 1 2 2 2\n",
      " 2 2 2 2 2 2 2 2 2 2 2 2 2 0 1 0 2 1 1 0 2 1 2 2 1 2 1 1 1 1 1 1 2 1 1 1 1\n",
      " 1 1 1 0 1 2 2 2 1 1 1 1 0 1 1 2 1 1 1 2 1 1 1 1 2 1 0 1 0 0 0 0 2 0 1 0 0\n",
      " 1 0 1 1 0 0 0 0 1 0 1 0 1 0 0 1 1 0 0 0 0 0 1 1 0 0 0 1 0 0 0 1 0 0 0 1 0\n",
      " 0 1]\n",
      "[0 0 0 0 0 0 0 0 0 0 0 0 0 0 0 0 0 0 0 0 0 0 0 0 0 0 0 0 0 0 0 0 0 0 0 0 0\n",
      " 0 0 0 0 0 0 0 0 0 0 0 0 0 1 1 1 1 1 1 1 1 1 1 1 1 1 1 1 1 1 1 1 1 1 1 1 1\n",
      " 1 1 1 1 1 1 1 1 1 1 1 1 1 1 1 1 1 1 1 1 1 1 1 1 1 1 2 2 2 2 2 2 2 2 2 2 2\n",
      " 2 2 2 2 2 2 2 2 2 2 2 2 2 2 2 2 2 2 2 2 2 2 2 2 2 2 2 2 2 2 2 2 2 2 2 2 2\n",
      " 2 2]\n",
      "0.7266666666666667\n"
     ]
    },
    {
     "data": {
      "image/png": "[encoded data removed]",
      "text/plain": [
       "<Figure size 432x288 with 1 Axes>"
      ]
     },
     "metadata": {
      "needs_background": "light"
     },
     "output_type": "display_data"
    }
   ],
   "source": [
    "data = load_iris()\n",
    "X, y = data.data, data.target\n",
    "X = norm(X)\n",
    "model = K_means(n_clusters = 3, random_state = 42, max_iter = 100)\n",
    "bel = model.fit(X)\n",
    "print(bel)\n",
    "print(y)\n",
    "bel[bel==2] = 3\n",
    "bel[bel==0] = 2\n",
    "bel[bel==3] = 0\n",
    "plt.scatter(np.arange(y.shape[0]), y, c = 'blue', marker = '.')\n",
    "plt.scatter(np.arange(y.shape[0]), bel + .1, c = 'red', marker = '*')\n",
    "acc = (bel==y).sum() / bel.shape[0]\n",
    "print(acc)"
   ]
  }
 ],
 "metadata": {
  "kernelspec": {
   "display_name": "Python [conda env:pytorch] *",
   "language": "python",
   "name": "conda-env-pytorch-py"
  },
  "language_info": {
   "codemirror_mode": {
    "name": "ipython",
    "version": 3
   },
   "file_extension": ".py",
   "mimetype": "text/x-python",
   "name": "python",
   "nbconvert_exporter": "python",
   "pygments_lexer": "ipython3",
   "version": "3.7.13"
  }
 },
 "nbformat": 4,
 "nbformat_minor": 5
}
