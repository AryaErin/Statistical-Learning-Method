{
 "cells": [
  {
   "cell_type": "code",
   "execution_count": 1,
   "id": "fa532390",
   "metadata": {},
   "outputs": [],
   "source": [
    "import pandas as pd\n",
    "import numpy as np\n",
    "import time\n",
    "from sklearn.model_selection import train_test_split"
   ]
  },
  {
   "cell_type": "code",
   "execution_count": 2,
   "id": "4191d991",
   "metadata": {},
   "outputs": [],
   "source": [
    "def loadTrainData(filePath):\n",
    "    data = pd.read_csv(filePath)\n",
    "    # 去除Cabin、Ticket、Name三列，这三列不做分析\n",
    "    data.drop(columns = ['Cabin', 'Ticket', 'Name'], axis = 1, inplace = True)\n",
    "    # 处理缺失值：Age使用平均值填充，Embarked使用出现最多的填充\n",
    "    data['Age'].fillna(value=data['Age'].median(), inplace = True)\n",
    "    maxEmbarked = data['Embarked'].value_counts().sort_values(ascending = False).index[0]\n",
    "    data['Embarked'].fillna(value = maxEmbarked, inplace = True)\n",
    "    # 修改male为1，female为0\n",
    "    data.loc[data['Sex']=='male', 'Sex'] = 1\n",
    "    data.loc[data['Sex']=='female', 'Sex'] = 0\n",
    "    # 修改C为0，Q为1，S为2\n",
    "    data.loc[data['Embarked']=='C', 'Embarked'] = 0\n",
    "    data.loc[data['Embarked']=='Q', 'Embarked'] = 1\n",
    "    data.loc[data['Embarked']=='S', 'Embarked'] = 2\n",
    "    # data[['Sex','Embarked']] = data[['Sex','Embarked']].apply(pd.to_numeric)\n",
    "    data[['Sex','Embarked']] = data[['Sex','Embarked']].astype(np.int64)\n",
    "    features = ['Pclass', 'Sex', 'Age', 'SibSp', 'Parch', 'Fare', 'Embarked']\n",
    "    tag = ['Survived']\n",
    "    # 转为矩阵\n",
    "    X = np.array(data[features])\n",
    "    y = np.array(data[tag]).flatten()\n",
    "    return X, y"
   ]
  },
  {
   "cell_type": "code",
   "execution_count": 3,
   "id": "d4728e33",
   "metadata": {},
   "outputs": [],
   "source": [
    "def loadTestData(filePath):\n",
    "    data = pd.read_csv(filePath)\n",
    "    data.drop(columns = ['Cabin', 'Ticket', 'Name'], inplace = True)\n",
    "    # print(data.isnull().sum().sort_values(ascending = False))\n",
    "    data['Age'].fillna(value = data['Age'].median(), inplace = True)\n",
    "    data['Fare'].fillna(value = data['Fare'].median(), inplace = True)\n",
    "    data.loc[data['Sex']=='male', 'Sex'] = 1\n",
    "    data.loc[data['Sex']=='female', 'Sex'] = 0\n",
    "    data.loc[data['Embarked']=='C', 'Embarked'] = 0\n",
    "    data.loc[data['Embarked']=='Q', 'Embarked'] = 1\n",
    "    data.loc[data['Embarked']=='S', 'Embarked'] = 2\n",
    "    data[['Sex','Embarked', 'Fare']] = data[['Sex','Embarked', 'Fare']].apply(pd.to_numeric)\n",
    "    features = ['Pclass', 'Sex', 'Age', 'SibSp', 'Parch', 'Fare', 'Embarked']\n",
    "    X = np.array(data[features])\n",
    "    return X"
   ]
  },
  {
   "cell_type": "code",
   "execution_count": 4,
   "id": "201af757",
   "metadata": {},
   "outputs": [],
   "source": [
    "# 标准化\n",
    "def norm(X_data):\n",
    "    mu = X_data.mean(axis = 0)\n",
    "    sigma = X_data.std(axis = 0)\n",
    "    X_norm = (X_data - mu) / sigma\n",
    "    return X_norm"
   ]
  },
  {
   "cell_type": "code",
   "execution_count": 5,
   "id": "b1d8b741",
   "metadata": {},
   "outputs": [],
   "source": [
    "class Logistic_Regression:\n",
    "    def __init__(self):\n",
    "        pass\n",
    "    def sigmoid(self, x):\n",
    "        return 1 / (1 + np.exp(-x))\n",
    "    def fit(self, X, y, epochs = 500, lr = 0.01):\n",
    "        '''\n",
    "            epochs: 迭代次数\n",
    "            lr: 学习率\n",
    "        '''\n",
    "        self.X = np.concatenate((X,np.ones((X.shape[0],1))), axis = 1).T\n",
    "        self.w = np.zeros((self.X.shape[0], 1))\n",
    "        self.y = y.reshape((y.shape[0], 1))\n",
    "        for _ in range(epochs):\n",
    "#             for循环求和形式：\n",
    "#             ls = np.zeros((self.X.shape[0], 1))\n",
    "#             for i in range(self.X.shape[1]):\n",
    "#                 xi = self.X.T[i].T.reshape(8,1)\n",
    "#                 yi = self.y[i].reshape(1,1)\n",
    "#                 ls += (yi - self.sigmoid(self.w.T.dot(xi))) * xi\n",
    "#             self.w = self.w + lr * ls\n",
    "#             矩阵计算形式：\n",
    "#             梯度下降更新参数\n",
    "            self.w = self.w + lr * (self.X * (self.y.T - self.sigmoid(self.w.T.dot(self.X)))).sum(axis = 1).reshape(8,1)\n",
    "    def predict(self, X):\n",
    "        X_h = np.concatenate((X,np.ones((X.shape[0],1))), axis = 1).T\n",
    "        prob = self.sigmoid(self.w.T.dot(X_h)).flatten()\n",
    "        y_pred = np.array(list(map(lambda x : 1 if x >= 0.5 else 0, prob)), dtype = np.int32)\n",
    "        return y_pred"
   ]
  },
  {
   "cell_type": "code",
   "execution_count": 6,
   "id": "5cb0cb28",
   "metadata": {},
   "outputs": [],
   "source": [
    "trainFilePath = '../titanic/train.csv'\n",
    "X, y = loadTrainData(trainFilePath)\n",
    "X_train, X_valid, y_train, y_valid = train_test_split(X, y, test_size = 0.2, random_state = 42, stratify = y)\n",
    "X_train, X_valid = norm(X_train), norm(X_valid)\n"
   ]
  },
  {
   "cell_type": "code",
   "execution_count": 7,
   "id": "34cd6a01",
   "metadata": {},
   "outputs": [],
   "source": [
    "model = Logistic_Regression()\n",
    "model.fit(X_train, y_train, epochs = 100, lr = 0.001)"
   ]
  },
  {
   "cell_type": "code",
   "execution_count": 8,
   "id": "0c2b967e",
   "metadata": {},
   "outputs": [
    {
     "name": "stdout",
     "output_type": "stream",
     "text": [
      "acc = 0.793296.\n"
     ]
    }
   ],
   "source": [
    "y_pred = model.predict(X_valid)\n",
    "acc = (y_pred==y_valid).sum() / y_valid.shape[0]\n",
    "print('acc = %f.' % (acc))"
   ]
  },
  {
   "cell_type": "code",
   "execution_count": 9,
   "id": "06cc6d5a",
   "metadata": {},
   "outputs": [],
   "source": [
    "testFilePath = '../titanic/test.csv'\n",
    "PassengerId = pd.read_csv(testFilePath)['PassengerId']\n",
    "X_test = loadTestData(testFilePath)\n",
    "X_test = norm(X_test)\n",
    "y_pred = model.predict(X_test)\n",
    "ans = pd.DataFrame({'PassengerId' : PassengerId, 'Survived' : y_pred.astype(np.int32)})\n",
    "saveFilePath = './result.csv'\n",
    "ans.to_csv(saveFilePath, index = False)\n",
    "\n",
    "# kaggle 测试集准确率 77.272%"
   ]
  }
 ],
 "metadata": {
  "kernelspec": {
   "display_name": "Python [conda env:pytorch] *",
   "language": "python",
   "name": "conda-env-pytorch-py"
  },
  "language_info": {
   "codemirror_mode": {
    "name": "ipython",
    "version": 3
   },
   "file_extension": ".py",
   "mimetype": "text/x-python",
   "name": "python",
   "nbconvert_exporter": "python",
   "pygments_lexer": "ipython3",
   "version": "3.7.13"
  }
 },
 "nbformat": 4,
 "nbformat_minor": 5
}
